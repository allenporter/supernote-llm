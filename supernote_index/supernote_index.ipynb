{
 "cells": [
  {
   "cell_type": "code",
   "execution_count": null,
   "metadata": {},
   "outputs": [],
   "source": [
    "import os\n",
    "from pathlib import Path\n",
    "import logging\n",
    "import sys\n",
    "import yaml\n",
    "\n",
    "from llama_index import VectorStoreIndex, SimpleDirectoryReader, ServiceContext\n",
    "from llama_index.llms import OpenAI #, OpenAIEmbedding\n",
    "from llama_index.embeddings.openai import OpenAIEmbedding\n",
    "import llama_index\n",
    "\n",
    "_LOGGER = logging.getLogger(__name__)\n",
    "logging.basicConfig(stream=sys.stdout, level=logging.DEBUG)\n",
    "\n",
    "NOTES_DIR = Path(\"../texts\")\n",
    "SECRETS = Path(\"../secrets.yaml\")\n",
    "\n",
    "API_URL = None\n",
    "MODEL_ID = 'gpt-3.5-turbo'\n",
    "\n",
    "# Local mistral 7-b model\n",
    "# API_URL = 'https://llama-openblas.k8s.mrv.thebends.org/v1'\n",
    "# MODEL_ID = 'gpt-3.5-turbo'\n",
    "\n",
    "secrets = yaml.safe_load(SECRETS.read_text())\n",
    "OPENAI_API_KEY = secrets['openai_key']\n",
    "\n",
    "_LOGGER.info(\"Initializing client library\")\n",
    "llm = OpenAI(temperature=0.1, model=MODEL_ID, api_base=API_URL, api_key=OPENAI_API_KEY)\n",
    "embed_model = OpenAIEmbedding(api_key=OPENAI_API_KEY, api_base=API_URL)\n",
    "service_context = ServiceContext.from_defaults(llm=llm, embed_model=embed_model)\n",
    "\n",
    "_LOGGER.info(\"Loading documents\")\n",
    "documents = SimpleDirectoryReader(str(NOTES_DIR)).load_data()\n",
    "\n",
    "_LOGGER.info(\"Indexing documents\")\n",
    "index = VectorStoreIndex.from_documents(documents, service_context=service_context)"
   ]
  },
  {
   "cell_type": "code",
   "execution_count": null,
   "metadata": {},
   "outputs": [],
   "source": [
    "query_engine = index.as_query_engine()\n",
    "response = query_engine.query(\"What items on my todo list should i consider today?\")\n",
    "print(\"---\")\n",
    "print(response)"
   ]
  },
  {
   "cell_type": "code",
   "execution_count": null,
   "metadata": {},
   "outputs": [],
   "source": [
    "# Persist the index\n",
    "index.storage_context.persist()"
   ]
  },
  {
   "cell_type": "code",
   "execution_count": null,
   "metadata": {},
   "outputs": [],
   "source": [
    "# Example of persisting data\n",
    "\n",
    "PERSIST_DIR = \"./storage\"\n",
    "if not os.path.exists(PERSIST_DIR):\n",
    "    # load the documents and create the index\n",
    "    documents = SimpleDirectoryReader(\"data\").load_data()\n",
    "    index = VectorStoreIndex.from_documents(documents)\n",
    "    # store it for later\n",
    "    index.storage_context.persist(persist_dir=PERSIST_DIR)\n",
    "else:\n",
    "    # load the existing index\n",
    "    storage_context = StorageContext.from_defaults(persist_dir=PERSIST_DIR)\n",
    "    index = load_index_from_storage(storage_context)"
   ]
  }
 ],
 "metadata": {
  "kernelspec": {
   "display_name": "Python 3",
   "language": "python",
   "name": "python3"
  },
  "language_info": {
   "codemirror_mode": {
    "name": "ipython",
    "version": 3
   },
   "file_extension": ".py",
   "mimetype": "text/x-python",
   "name": "python",
   "nbconvert_exporter": "python",
   "pygments_lexer": "ipython3",
   "version": "3.10.12"
  }
 },
 "nbformat": 4,
 "nbformat_minor": 2
}
