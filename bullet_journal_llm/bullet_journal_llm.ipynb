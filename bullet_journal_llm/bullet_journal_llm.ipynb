{
 "cells": [
  {
   "cell_type": "markdown",
   "metadata": {},
   "source": [
    "# Bullet Journal LLM\n",
    "\n",
    "I currently use the SuperNote as a [Bullet Journal](https://www.youtube.com/watch?v=fm15cmYU0IM). This\n",
    "notebook is experimenting with processing the supernote media, using extracted text from note pages,\n",
    "and determining what we can infer or cleanup about each note."
   ]
  },
  {
   "cell_type": "markdown",
   "metadata": {},
   "source": [
    "# Simple Daily Analysis\n",
    "\n",
    "Look at an arbitrary day's note and see what can be inferred/cleaned up."
   ]
  },
  {
   "cell_type": "code",
   "execution_count": 1,
   "metadata": {},
   "outputs": [
    {
     "name": "stdout",
     "output_type": "stream",
     "text": [
      "INFO:__main__:Initializing client library\n"
     ]
    },
    {
     "name": "stderr",
     "output_type": "stream",
     "text": [
      "/Users/allen/Development/supernote-llm/venv/lib/python3.11/site-packages/tqdm/auto.py:21: TqdmWarning: IProgress not found. Please update jupyter and ipywidgets. See https://ipywidgets.readthedocs.io/en/stable/user_install.html\n",
      "  from .autonotebook import tqdm as notebook_tqdm\n"
     ]
    }
   ],
   "source": [
    "from pathlib import Path\n",
    "import logging\n",
    "import sys\n",
    "import yaml\n",
    "\n",
    "import google.generativeai as genai\n",
    "import os\n",
    "\n",
    "_LOGGER = logging.getLogger(__name__)\n",
    "logging.basicConfig(stream=sys.stdout, level=logging.DEBUG)\n",
    "\n",
    "NOTES_DIR = Path(\"../texts\")\n",
    "PAGES_DIR = Path(\"../pages\")\n",
    "SECRETS = Path(\"../secrets.yaml\")\n",
    "\n",
    "MODEL_ID = 'gemini-1.5-flash'\n",
    "\n",
    "secrets = yaml.safe_load(SECRETS.read_text())\n",
    "\n",
    "genai.configure(api_key=secrets[\"gemini_api_key\"])\n",
    "\n",
    "_LOGGER.info(\"Initializing client library\")\n",
    "model = genai.GenerativeModel(MODEL_ID)"
   ]
  },
  {
   "cell_type": "code",
   "execution_count": 7,
   "metadata": {},
   "outputs": [
    {
     "data": {
      "text/plain": [
       "PosixPath('../texts/Daily-16-P20240201073944998430qrrAJQfuUG0J.txt')"
      ]
     },
     "execution_count": 7,
     "metadata": {},
     "output_type": "execute_result"
    }
   ],
   "source": [
    "import random\n",
    "\n",
    "daily_notes = list(NOTES_DIR.glob(\"Daily-*.txt\"))\n",
    "\n",
    "random.shuffle(daily_notes)\n",
    "daily_notes[0]"
   ]
  },
  {
   "cell_type": "code",
   "execution_count": 8,
   "metadata": {},
   "outputs": [
    {
     "name": "stdout",
     "output_type": "stream",
     "text": [
      "0201 THU\n",
      "✗ aot rent\n",
      "- ai throughput notes\n",
      "- Bard evcls :/videos?\n",
      "' Ask Photos user study ,' run synthetic data % lab\n",
      "notes for synthetic data\n",
      "* - review Tl Databases slides\n",
      "wrap up DMA rollout plan\n",
      "' summarize s nth data next\n",
      "' monthly reflection\n",
      "• query lens transitions 1 t 0202 FRI * E serving TPU cal\n",
      "Tristan email intro\n",
      "- 15 mins: DMA rollout plan cleanup\n",
      "1- synth date next steps\n",
      "1. gap print return label\n",
      "- At throughput bullet points\n",
      ". review quality report\n",
      "0203 SAT, 0204 SUN\n",
      "- Boo 1-oct flights to LOW\n",
      ". TP stand\n",
      "Fill cavity endar * .\n"
     ]
    }
   ],
   "source": [
    "with daily_notes[0].open() as f:\n",
    "    text = f.read()\n",
    "    print(text)"
   ]
  },
  {
   "cell_type": "code",
   "execution_count": 17,
   "metadata": {},
   "outputs": [],
   "source": [
    "OCR_PROMPT = \"\"\"You are analyzing OCR text from an e-ink SuperNote A5X. The text has been extract\n",
    "automatically by the device and is not perfect. You can see that the text is not perfect\n",
    "and will need some cleaning up. The text is in English and is in a bullet journal format.\n",
    "The bullet journal can contain a variety of different types of information, such as\n",
    "notes, to-do lists, and reminders. \n",
    "\n",
    "\n",
    "An entry in a daily journal can have different types of bullets:\n",
    "o event\n",
    ". task\n",
    "x completed task\n",
    "- note\n",
    "< moved to future log\n",
    "> moved to another daily, weekly, or monthly note\n",
    "\n",
    "Here are examples of what a daily note looks like:\n",
    "\n",
    "1030 SUN\n",
    "o Halloween Party @ 7PM @ Kid's school \n",
    ". Pick up candy\n",
    "x Buy pumpkins\n",
    "> Call mom\n",
    "\n",
    "1031 MON\n",
    "- Trickortreaters were so cute\n",
    ". Call mom\n",
    "\n",
    "\n",
    "Your task is to rewrite the journal in a consistent format and fix mistakes in\n",
    "the OCR. Only answer with the corrected text, and no other commentary, as the\n",
    "answer will be programtically parsed\n",
    "\n",
    "Original OCR text {filename}:\n",
    "{note}\n",
    "\n",
    "Corrected bullet journal:\n",
    "\"\"\"\n",
    "\n",
    "response = model.generate_content(OCR_PROMPT.format(note=text, filename=str(daily_notes[0])))"
   ]
  },
  {
   "cell_type": "code",
   "execution_count": 18,
   "metadata": {},
   "outputs": [
    {
     "name": "stdout",
     "output_type": "stream",
     "text": [
      "0201 THU\n",
      "x paid rent\n",
      "- AI throughput notes\n",
      "- Bard evcls :/videos?\n",
      "- Ask Photos user study, run synthetic data % lab\n",
      "notes for synthetic data\n",
      "- review TL Databases slides\n",
      "- wrap up DMA rollout plan\n",
      "- summarize synthetic data next\n",
      "- monthly reflection\n",
      "- query lens transitions 1 to 0202 FRI * E serving TPU calc\n",
      "- Tristan email intro\n",
      "- 15 mins: DMA rollout plan cleanup\n",
      "- synth data next steps\n",
      "- gap print return label\n",
      "- AI throughput bullet points\n",
      "- review quality report\n",
      "0203 SAT, 0204 SUN\n",
      "- Book 1-oct flights to LOW\n",
      "- TP stand\n",
      "- Fill cavity calendar * \n",
      "\n"
     ]
    }
   ],
   "source": [
    "print(response.text)"
   ]
  },
  {
   "cell_type": "code",
   "execution_count": 27,
   "metadata": {},
   "outputs": [
    {
     "name": "stdout",
     "output_type": "stream",
     "text": [
      "DEBUG:PIL.PngImagePlugin:STREAM b'IHDR' 16 13\n",
      "DEBUG:PIL.PngImagePlugin:STREAM b'IDAT' 41 65536\n"
     ]
    }
   ],
   "source": [
    "import PIL.Image\n",
    "\n",
    "page_filename = PAGES_DIR / (\"_\".join(daily_notes[0].name.split(\"-\")[0:2]) + \".png\")\n",
    "page_png = PIL.Image.open(page_filename)"
   ]
  },
  {
   "cell_type": "code",
   "execution_count": 31,
   "metadata": {},
   "outputs": [],
   "source": [
    "\n",
    "\n",
    "IMG_PROMPT = \"\"\"You are analyzing OCR text from an e-ink SuperNote A5X. The note is hand\n",
    "written. You can see that the text is not perfect and will need some cleaning up. The\n",
    "text is in English and is in a bullet journal format. The bullet journal can contain a\n",
    "variety of different types of information, such as notes, to-do lists, and reminders. \n",
    "\n",
    "An entry in a daily journal can have different types of bullets:\n",
    "  o event\n",
    "  . task\n",
    "  x completed task\n",
    "  - note\n",
    "  < moved to future log\n",
    "  > moved to another daily, weekly, or monthly note\n",
    "*   important (can be added left of another bullet)\n",
    "\n",
    "Here are examples of what a daily note looks like:\n",
    "\n",
    "1030 SUN\n",
    "  o Halloween Party @ 7PM @ Kid's school \n",
    "  . Pick up candy\n",
    "  x Buy pumpkins\n",
    "* > Call mom\n",
    "\n",
    "1031 MON\n",
    "  - Trickortreaters were so cute\n",
    "  . Call mom\n",
    "\n",
    "\n",
    "Your task is to rewrite the journal in a consistent format and fix mistakes in\n",
    "the OCR. Only answer with the corrected text, and no other commentary, as the\n",
    "answer will be programtically parsed\n",
    "\"\"\"\n",
    "\n",
    "response = model.generate_content([IMG_PROMPT, page_png])"
   ]
  },
  {
   "cell_type": "code",
   "execution_count": 32,
   "metadata": {},
   "outputs": [
    {
     "name": "stdout",
     "output_type": "stream",
     "text": [
      "0201 THU\n",
      "x act rent\n",
      "< ai through put notes\n",
      "- Board overview/videos?\n",
      "*x Ask Photos user study\n",
      "**x run Synthetic data colab \n",
      "**x notes for Synthetic data\n",
      "**x review TT Databases slides\n",
      "*x Wrap up DMA rollout plan\n",
      "x Summarize synth data next\n",
      "< monthly reflection\n",
      "* < query lens transitions\n",
      "\n",
      "0202 FRI\n",
      "**< Serving TPU calendar\n",
      "*x Tristan email intro \n",
      "*x 15 mins; DMA rollout plan Cleanup\n",
      "*x synth data next steps\n",
      "x gap print return label\n",
      "*x AI through put bullet points\n",
      "*x review quality report\n",
      "\n",
      "0203 SAT 0204 SUN\n",
      "- Booked flights to LOW\n",
      "*x TP stand\n",
      "* > Fill cavity \n",
      "\n"
     ]
    }
   ],
   "source": [
    "print(response.text)"
   ]
  },
  {
   "cell_type": "markdown",
   "metadata": {},
   "source": [
    "## Daily notes\n",
    "\n",
    "- Model is able to understand the bullet journal format well\n",
    "- Model awas able to improves the detected OCR\n",
    "- Using the multi-modal model directly for OCR works even better than the supernote OCR"
   ]
  },
  {
   "cell_type": "markdown",
   "metadata": {},
   "source": [
    "# Weekly\n"
   ]
  },
  {
   "cell_type": "code",
   "execution_count": 3,
   "metadata": {},
   "outputs": [
    {
     "data": {
      "text/plain": [
       "[PosixPath('../pages/Weekly_34.png'),\n",
       " PosixPath('../pages/Weekly_35.png'),\n",
       " PosixPath('../pages/Weekly_36.png')]"
      ]
     },
     "execution_count": 3,
     "metadata": {},
     "output_type": "execute_result"
    }
   ],
   "source": [
    "weekly_pages = sorted(list(PAGES_DIR.glob(\"Weekly_*.png\")))\n",
    "recent_pages = weekly_pages[-3:]\n",
    "\n",
    "recent_pages\n"
   ]
  },
  {
   "cell_type": "code",
   "execution_count": 6,
   "metadata": {},
   "outputs": [
    {
     "name": "stdout",
     "output_type": "stream",
     "text": [
      "DEBUG:PIL.PngImagePlugin:STREAM b'IHDR' 16 13\n",
      "DEBUG:PIL.PngImagePlugin:STREAM b'IDAT' 41 62146\n",
      "DEBUG:PIL.PngImagePlugin:STREAM b'IHDR' 16 13\n",
      "DEBUG:PIL.PngImagePlugin:STREAM b'IDAT' 41 58473\n",
      "DEBUG:PIL.PngImagePlugin:STREAM b'IHDR' 16 13\n",
      "DEBUG:PIL.PngImagePlugin:STREAM b'IDAT' 41 30482\n"
     ]
    }
   ],
   "source": [
    "import PIL.Image\n",
    "\n",
    "weekly_pngs = [\n",
    "    PIL.Image.open(page_filename)\n",
    "    for page_filename in recent_pages\n",
    "]"
   ]
  },
  {
   "cell_type": "code",
   "execution_count": 14,
   "metadata": {},
   "outputs": [
    {
     "name": "stdout",
     "output_type": "stream",
     "text": [
      "DEBUG:google.api_core.retry:Retrying due to 503 sendmsg: Broken pipe (32), sleeping 0.4s ...\n"
     ]
    }
   ],
   "source": [
    "\n",
    "IMG_PROMPT = \"\"\"You are analyzing OCR text from an e-ink SuperNote A5X. The note is hand\n",
    "written. You can see that the text is not perfect and will need some cleaning up. The\n",
    "text is in English and is in a bullet journal format. The bullet journal can contain a\n",
    "variety of different types of information, such as notes, to-do lists, and reminders. \n",
    "\n",
    "An entry in a weekly journal can have different types of bullets:\n",
    "  o event\n",
    "  . task\n",
    "  x completed task\n",
    "  - note\n",
    "  < moved to future log\n",
    "  > moved to another daily, weekly, or monthly note\n",
    "*   important (can be added left of another bullet)\n",
    "\n",
    "There is also a special page which is a \"Weekly Review\" for a date range. This\n",
    "is usualy in the format of some prompt questions to allow for reflection on\n",
    "the previous week as well as the week ahead, and is usually based on shorter\n",
    "term view of longer term goals, projects, or values.\n",
    "\n",
    "A weekly review note will look like this and will have a date range at the top:\n",
    "\n",
    "WEEKLY REVIEW 0123-0129\n",
    "\n",
    "- What did I accomplish last week?\n",
    "  - After completing the salary analysis, i got assigned to do the final report\n",
    "  - I also got a lot of positive feedback from the team on the presentation\n",
    "- What were my biggest challenges?\n",
    "  - I had a hard time getting the data for the salary report\n",
    "  - Perhaps I should consider asking for help\n",
    "- What are my goals for next week?\n",
    "  - Make sure i talk to at least one parent\n",
    "  - Finish the salary report\n",
    "\n",
    "  \n",
    "Here is an example of what a normal weekly note looks like. Note that it mostly\n",
    "contains tasks, and rarely contains notes or events:\n",
    "\n",
    "WEEKLY 0130-0205\n",
    "\n",
    "Personal\n",
    "  x Buy groceries\n",
    "  . Go to the gym 3x x x .\n",
    "  . Call mom\n",
    "  < Clean out closet\n",
    "\n",
    "Work\n",
    "* x Initial draft of salary report\n",
    "  . Check if Kendra is available to meet this week\n",
    "  < Send out report by Wednesday\n",
    "  \n",
    "Keep in mind that a \".\" is a task and a \"-\" is a note and \"x\" is a completed\n",
    "\n",
    "Your task is to rewrite the journal in a consistent format and fix mistakes in\n",
    "the OCR. Only answer with the corrected text, and no other commentary, as the\n",
    "answer will be programtically parsed.\n",
    "\"\"\"\n",
    "\n",
    "response = model.generate_content([IMG_PROMPT, *weekly_pngs])"
   ]
  },
  {
   "cell_type": "code",
   "execution_count": 15,
   "metadata": {},
   "outputs": [
    {
     "name": "stdout",
     "output_type": "stream",
     "text": [
      "WEEKLY REVIEW 0527-0602\n",
      "- What progress did I make last week?\n",
      "  - Learned about gemeni extension\n",
      "  - Home restart evals\n",
      "  - Golf w/ Quentin\n",
      "  - Auto radar deep dive jct next\n",
      "  - GCP + snap ideas\n",
      "- Where can I streamline, declutter?\n",
      "  - Make home-assistant eval\n",
      "  - Simpler -> automated device check?\n",
      "  - Go scrappy on gemeni integration\n",
      "- Did I practice compassion this week?\n",
      "  - Care for myself, alcohol break\n",
      "  - Shruthi in good sha before ex\n",
      "WEEKLY 0527-0602\n",
      "- AI/ML\n",
      "  . Review ml eval metrics\n",
      "  . Review temporal memories\n",
      "  . Long context framing\n",
      "  . Serving utilization\n",
      "- ATL\n",
      "  . Al tech talks w/ Rohan\n",
      "  . Targets w/ PARM: ping Hickson\n",
      "  . P2D: Debajit\n",
      "  . Debajit + Photos\n",
      "- Log\n",
      "  x Dishwasher panel FGID 2466\n",
      "  x The cold activation\n",
      "  . Credit Geometry Honors & FTA\n",
      "  . Betsy Photos on computer\n",
      "  x Assemble bench\n",
      "  - Water-softener salt\n",
      "WEEKLY 0603-0609\n",
      "- AI/ML\n",
      "  * . Key tech questions for floary\n",
      "  . Ask Photos GTM plan next steps\n",
      "- ATL & Cost\n",
      "  . Play business driver summary\n",
      "  . Grad feedback\n",
      "- Log\n"
     ]
    }
   ],
   "source": [
    "print(response.text)"
   ]
  }
 ],
 "metadata": {
  "kernelspec": {
   "display_name": "venv",
   "language": "python",
   "name": "python3"
  },
  "language_info": {
   "codemirror_mode": {
    "name": "ipython",
    "version": 3
   },
   "file_extension": ".py",
   "mimetype": "text/x-python",
   "name": "python",
   "nbconvert_exporter": "python",
   "pygments_lexer": "ipython3",
   "version": "3.11.3"
  }
 },
 "nbformat": 4,
 "nbformat_minor": 2
}
