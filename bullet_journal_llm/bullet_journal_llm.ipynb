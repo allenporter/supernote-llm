{
 "cells": [
  {
   "cell_type": "markdown",
   "metadata": {},
   "source": [
    "# Bullet Journal LLM\n",
    "\n",
    "I currently use the SuperNote as a [Bullet Journal](https://www.youtube.com/watch?v=fm15cmYU0IM). This\n",
    "notebook is experimenting with processing the supernote media, using extracted text from note pages,\n",
    "and determining what we can infer or cleanup about each note."
   ]
  },
  {
   "cell_type": "markdown",
   "metadata": {},
   "source": [
    "# Simple Daily Analysis\n",
    "\n",
    "Look at an arbitrary day's note and see what can be inferred/cleaned up."
   ]
  },
  {
   "cell_type": "code",
   "execution_count": 6,
   "metadata": {},
   "outputs": [
    {
     "name": "stdout",
     "output_type": "stream",
     "text": [
      "INFO:__main__:Initializing client library\n"
     ]
    }
   ],
   "source": [
    "from pathlib import Path\n",
    "import logging\n",
    "import sys\n",
    "import yaml\n",
    "\n",
    "import google.generativeai as genai\n",
    "import os\n",
    "\n",
    "_LOGGER = logging.getLogger(__name__)\n",
    "logging.basicConfig(stream=sys.stdout, level=logging.DEBUG)\n",
    "\n",
    "NOTES_DIR = Path(\"../texts\")\n",
    "PAGES_DIR = Path(\"../pages\")\n",
    "SECRETS = Path(\"../secrets.yaml\")\n",
    "\n",
    "MODEL_ID = 'gemini-1.5-flash'\n",
    "\n",
    "secrets = yaml.safe_load(SECRETS.read_text())\n",
    "\n",
    "genai.configure(api_key=secrets[\"gemini_api_key\"])\n",
    "\n",
    "_LOGGER.info(\"Initializing client library\")\n",
    "model = genai.GenerativeModel(MODEL_ID)"
   ]
  },
  {
   "cell_type": "code",
   "execution_count": 7,
   "metadata": {},
   "outputs": [
    {
     "data": {
      "text/plain": [
       "PosixPath('../texts/Daily-16-P20240201073944998430qrrAJQfuUG0J.txt')"
      ]
     },
     "execution_count": 7,
     "metadata": {},
     "output_type": "execute_result"
    }
   ],
   "source": [
    "import random\n",
    "\n",
    "daily_notes = list(NOTES_DIR.glob(\"Daily-*.txt\"))\n",
    "\n",
    "random.shuffle(daily_notes)\n",
    "daily_notes[0]"
   ]
  },
  {
   "cell_type": "code",
   "execution_count": 8,
   "metadata": {},
   "outputs": [
    {
     "name": "stdout",
     "output_type": "stream",
     "text": [
      "0201 THU\n",
      "✗ aot rent\n",
      "- ai throughput notes\n",
      "- Bard evcls :/videos?\n",
      "' Ask Photos user study ,' run synthetic data % lab\n",
      "notes for synthetic data\n",
      "* - review Tl Databases slides\n",
      "wrap up DMA rollout plan\n",
      "' summarize s nth data next\n",
      "' monthly reflection\n",
      "• query lens transitions 1 t 0202 FRI * E serving TPU cal\n",
      "Tristan email intro\n",
      "- 15 mins: DMA rollout plan cleanup\n",
      "1- synth date next steps\n",
      "1. gap print return label\n",
      "- At throughput bullet points\n",
      ". review quality report\n",
      "0203 SAT, 0204 SUN\n",
      "- Boo 1-oct flights to LOW\n",
      ". TP stand\n",
      "Fill cavity endar * .\n"
     ]
    }
   ],
   "source": [
    "with daily_notes[0].open() as f:\n",
    "    text = f.read()\n",
    "    print(text)"
   ]
  },
  {
   "cell_type": "code",
   "execution_count": 17,
   "metadata": {},
   "outputs": [],
   "source": [
    "OCR_PROMPT = \"\"\"You are analyzing OCR text from an e-ink SuperNote A5X. The text has been extract\n",
    "automatically by the device and is not perfect. You can see that the text is not perfect\n",
    "and will need some cleaning up. The text is in English and is in a bullet journal format.\n",
    "The bullet journal can contain a variety of different types of information, such as\n",
    "notes, to-do lists, and reminders. \n",
    "\n",
    "\n",
    "An entry in a daily journal can have different types of bullets:\n",
    "o event\n",
    ". task\n",
    "x completed task\n",
    "- note\n",
    "< moved to future log\n",
    "> moved to another daily, weekly, or monthly note\n",
    "\n",
    "Here are examples of what a daily note looks like:\n",
    "\n",
    "1030 SUN\n",
    "o Halloween Party @ 7PM @ Kid's school \n",
    ". Pick up candy\n",
    "x Buy pumpkins\n",
    "> Call mom\n",
    "\n",
    "1031 MON\n",
    "- Trickortreaters were so cute\n",
    ". Call mom\n",
    "\n",
    "\n",
    "Your task is to rewrite the journal in a consistent format and fix mistakes in\n",
    "the OCR. Only answer with the corrected text, and no other commentary, as the\n",
    "answer will be programtically parsed\n",
    "\n",
    "Original OCR text {filename}:\n",
    "{note}\n",
    "\n",
    "Corrected bullet journal:\n",
    "\"\"\"\n",
    "\n",
    "response = model.generate_content(OCR_PROMPT.format(note=text, filename=str(daily_notes[0])))"
   ]
  },
  {
   "cell_type": "code",
   "execution_count": 18,
   "metadata": {},
   "outputs": [
    {
     "name": "stdout",
     "output_type": "stream",
     "text": [
      "0201 THU\n",
      "x paid rent\n",
      "- AI throughput notes\n",
      "- Bard evcls :/videos?\n",
      "- Ask Photos user study, run synthetic data % lab\n",
      "notes for synthetic data\n",
      "- review TL Databases slides\n",
      "- wrap up DMA rollout plan\n",
      "- summarize synthetic data next\n",
      "- monthly reflection\n",
      "- query lens transitions 1 to 0202 FRI * E serving TPU calc\n",
      "- Tristan email intro\n",
      "- 15 mins: DMA rollout plan cleanup\n",
      "- synth data next steps\n",
      "- gap print return label\n",
      "- AI throughput bullet points\n",
      "- review quality report\n",
      "0203 SAT, 0204 SUN\n",
      "- Book 1-oct flights to LOW\n",
      "- TP stand\n",
      "- Fill cavity calendar * \n",
      "\n"
     ]
    }
   ],
   "source": [
    "print(response.text)"
   ]
  },
  {
   "cell_type": "code",
   "execution_count": 27,
   "metadata": {},
   "outputs": [
    {
     "name": "stdout",
     "output_type": "stream",
     "text": [
      "DEBUG:PIL.PngImagePlugin:STREAM b'IHDR' 16 13\n",
      "DEBUG:PIL.PngImagePlugin:STREAM b'IDAT' 41 65536\n"
     ]
    }
   ],
   "source": [
    "import PIL.Image\n",
    "\n",
    "page_filename = PAGES_DIR / (\"_\".join(daily_notes[0].name.split(\"-\")[0:2]) + \".png\")\n",
    "page_png = PIL.Image.open(page_filename)"
   ]
  },
  {
   "cell_type": "code",
   "execution_count": 31,
   "metadata": {},
   "outputs": [],
   "source": [
    "\n",
    "\n",
    "IMG_PROMPT = \"\"\"You are analyzing OCR text from an e-ink SuperNote A5X. The note is hand\n",
    "written. You can see that the text is not perfect and will need some cleaning up. The\n",
    "text is in English and is in a bullet journal format. The bullet journal can contain a\n",
    "variety of different types of information, such as notes, to-do lists, and reminders. \n",
    "\n",
    "An entry in a daily journal can have different types of bullets:\n",
    "  o event\n",
    "  . task\n",
    "  x completed task\n",
    "  - note\n",
    "  < moved to future log\n",
    "  > moved to another daily, weekly, or monthly note\n",
    "*   important (can be added left of another bullet)\n",
    "\n",
    "Here are examples of what a daily note looks like:\n",
    "\n",
    "1030 SUN\n",
    "  o Halloween Party @ 7PM @ Kid's school \n",
    "  . Pick up candy\n",
    "  x Buy pumpkins\n",
    "* > Call mom\n",
    "\n",
    "1031 MON\n",
    "  - Trickortreaters were so cute\n",
    "  . Call mom\n",
    "\n",
    "\n",
    "Your task is to rewrite the journal in a consistent format and fix mistakes in\n",
    "the OCR. Only answer with the corrected text, and no other commentary, as the\n",
    "answer will be programtically parsed\n",
    "\"\"\"\n",
    "\n",
    "response = model.generate_content([IMG_PROMPT, page_png])"
   ]
  },
  {
   "cell_type": "code",
   "execution_count": 32,
   "metadata": {},
   "outputs": [
    {
     "name": "stdout",
     "output_type": "stream",
     "text": [
      "0201 THU\n",
      "x act rent\n",
      "< ai through put notes\n",
      "- Board overview/videos?\n",
      "*x Ask Photos user study\n",
      "**x run Synthetic data colab \n",
      "**x notes for Synthetic data\n",
      "**x review TT Databases slides\n",
      "*x Wrap up DMA rollout plan\n",
      "x Summarize synth data next\n",
      "< monthly reflection\n",
      "* < query lens transitions\n",
      "\n",
      "0202 FRI\n",
      "**< Serving TPU calendar\n",
      "*x Tristan email intro \n",
      "*x 15 mins; DMA rollout plan Cleanup\n",
      "*x synth data next steps\n",
      "x gap print return label\n",
      "*x AI through put bullet points\n",
      "*x review quality report\n",
      "\n",
      "0203 SAT 0204 SUN\n",
      "- Booked flights to LOW\n",
      "*x TP stand\n",
      "* > Fill cavity \n",
      "\n"
     ]
    }
   ],
   "source": [
    "print(response.text)"
   ]
  }
 ],
 "metadata": {
  "kernelspec": {
   "display_name": "venv",
   "language": "python",
   "name": "python3"
  },
  "language_info": {
   "codemirror_mode": {
    "name": "ipython",
    "version": 3
   },
   "file_extension": ".py",
   "mimetype": "text/x-python",
   "name": "python",
   "nbconvert_exporter": "python",
   "pygments_lexer": "ipython3",
   "version": "3.11.3"
  }
 },
 "nbformat": 4,
 "nbformat_minor": 2
}
