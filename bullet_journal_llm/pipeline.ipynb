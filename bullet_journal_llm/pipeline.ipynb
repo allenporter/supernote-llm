{
 "cells": [
  {
   "cell_type": "markdown",
   "metadata": {},
   "source": [
    "# Pipeline\n",
    "\n",
    "This is meant to be a more pipelined version of the `bullet_journal_llm` notebook experiment. This will\n",
    "do bulk extraction of notes from the notebooks, with different prompts based on the notebook."
   ]
  },
  {
   "cell_type": "code",
   "execution_count": null,
   "metadata": {},
   "outputs": [],
   "source": [
    "from pathlib import Path\n",
    "import logging\n",
    "import sys\n",
    "import yaml\n",
    "\n",
    "import google.generativeai as genai\n",
    "import os\n",
    "\n",
    "_LOGGER = logging.getLogger(__name__)\n",
    "logging.basicConfig(stream=sys.stdout, level=logging.DEBUG)\n",
    "\n",
    "SECRETS = Path(\"../secrets.yaml\")\n",
    "MODEL_ID = 'gemini-1.5-flash'\n",
    "\n",
    "secrets = yaml.safe_load(SECRETS.read_text())\n",
    "genai.configure(api_key=secrets[\"gemini_api_key\"])\n",
    "\n",
    "_LOGGER.info(\"Initializing client library\")\n",
    "model = genai.GenerativeModel(MODEL_ID)"
   ]
  },
  {
   "cell_type": "code",
   "execution_count": null,
   "metadata": {},
   "outputs": [],
   "source": [
    "NOTES_DIR = Path(\"../notes\")\n",
    "PAGES_DIR = Path(\"../pages\")\n"
   ]
  },
  {
   "cell_type": "code",
   "execution_count": 2,
   "metadata": {},
   "outputs": [],
   "source": [
    "DEFAULT = [\n",
    "    \"default\",\n",
    "    \"rapid_log_legend\",\n",
    "    \"profile\",\n",
    "]\n",
    "DAILLY = [\n",
    "    *DEFAULT,\n",
    "    \"daily\",\n",
    "]\n",
    "MONTHLY = [\n",
    "    *DEFAULT,\n",
    "    \"monthly\",\n",
    "]\n",
    "WEEKLY = [\n",
    "    *DEFAULT,\n",
    "    \"weekly\",\n",
    "]"
   ]
  },
  {
   "cell_type": "code",
   "execution_count": 4,
   "metadata": {},
   "outputs": [],
   "source": [
    "\n",
    "DAILY_PROMPT = GENERIC_PROMPT + \"\"\"\n",
    "{daily_prompt}\n",
    "{daily_content}\n",
    "\n",
    "A notebook page should be converted to json data with the following structure for the above example page:\n",
    "```json\n",
    "{daily_json}\n",
    "```\n",
    "\n",
    "Your job is to convert the image to text and then to json format. Only answer with the json data,\n",
    "and no other commentary, as the answer will be programtically parsed.\n",
    "\"\"\"\n"
   ]
  },
  {
   "cell_type": "code",
   "execution_count": null,
   "metadata": {},
   "outputs": [],
   "source": [
    "\n",
    "WEEKLY_PROMPT = GENERIC_PROMPT + \"\"\"\n",
    "{weekly_prompt}\n",
    "{weekly_content}\n",
    "\n",
    "A notebook page should be converted to json data with the following structure for the above example page:\n",
    "```json\n",
    "{weekly_json}\n",
    "```\n",
    "\n",
    "Your job is to convert the image to text and then to json format. Only answer with the json data,\n",
    "and no other commentary, as the answer will be programtically parsed.\n",
    "\"\"\"\n",
    "\n",
    "response = model.generate_content([IMG_PROMPT, *weekly_pngs])"
   ]
  }
 ],
 "metadata": {
  "kernelspec": {
   "display_name": "venv",
   "language": "python",
   "name": "python3"
  },
  "language_info": {
   "codemirror_mode": {
    "name": "ipython",
    "version": 3
   },
   "file_extension": ".py",
   "mimetype": "text/x-python",
   "name": "python",
   "nbconvert_exporter": "python",
   "pygments_lexer": "ipython3",
   "version": "3.11.3"
  }
 },
 "nbformat": 4,
 "nbformat_minor": 2
}
